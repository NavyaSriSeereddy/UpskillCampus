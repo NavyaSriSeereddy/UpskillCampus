{
 "cells": [
  {
   "cell_type": "code",
   "execution_count": 86,
   "id": "bb56fc96",
   "metadata": {},
   "outputs": [],
   "source": [
    "import pandas as pd\n",
    "from sklearn.model_selection import train_test_split\n",
    "from sklearn.preprocessing import StandardScaler, OneHotEncoder\n",
    "from sklearn.compose import ColumnTransformer\n",
    "from sklearn.pipeline import Pipeline\n",
    "from sklearn.svm import SVC\n",
    "from sklearn.linear_model import LinearRegression\n",
    "from sklearn.model_selection import train_test_split\n",
    "from sklearn.metrics import classification_report, confusion_matrix\n",
    "from sklearn.metrics import mean_squared_error, r2_score\n",
    "import matplotlib.pyplot as plt\n",
    "import seaborn as sns\n",
    "from sklearn.ensemble import RandomForestRegressor\n",
    "from sklearn import metrics\n",
    "from sklearn.metrics import accuracy_score"
   ]
  },
  {
   "cell_type": "markdown",
   "id": "757c627c",
   "metadata": {},
   "source": [
    "Reading the dataset"
   ]
  },
  {
   "cell_type": "code",
   "execution_count": 87,
   "id": "025fb61a",
   "metadata": {},
   "outputs": [],
   "source": [
    "\n",
    "d=pd.read_csv('/home/rgukt/Desktop/summer_Intern/archive/crop_yield.csv')"
   ]
  },
  {
   "cell_type": "code",
   "execution_count": 88,
   "id": "596f0db4",
   "metadata": {},
   "outputs": [
    {
     "name": "stdout",
     "output_type": "stream",
     "text": [
      "                Crop  Crop_Year       Season              State      Area  \\\n",
      "0           Arecanut       1997  Whole Year               Assam   73814.0   \n",
      "1          Arhar/Tur       1997  Kharif                   Assam    6637.0   \n",
      "2        Castor seed       1997  Kharif                   Assam     796.0   \n",
      "3           Coconut        1997  Whole Year               Assam   19656.0   \n",
      "4       Cotton(lint)       1997  Kharif                   Assam    1739.0   \n",
      "...              ...        ...          ...                ...       ...   \n",
      "19684  Small millets       1998  Kharif                Nagaland    4000.0   \n",
      "19685          Wheat       1998  Rabi                  Nagaland    1000.0   \n",
      "19686          Maize       1997  Kharif       Jammu and Kashmir  310883.0   \n",
      "19687           Rice       1997  Kharif       Jammu and Kashmir  275746.0   \n",
      "19688          Wheat       1997  Rabi         Jammu and Kashmir  239344.0   \n",
      "\n",
      "       Production  Annual_Rainfall   Fertilizer  Pesticide        Yield  \n",
      "0           56708           2051.4   7024878.38   22882.34     0.796087  \n",
      "1            4685           2051.4    631643.29    2057.47     0.710435  \n",
      "2              22           2051.4     75755.32     246.76     0.238333  \n",
      "3       126905000           2051.4   1870661.52    6093.36  5238.051739  \n",
      "4             794           2051.4    165500.63     539.09     0.420909  \n",
      "...           ...              ...          ...        ...          ...  \n",
      "19684        2000           1498.0    395200.00    1160.00     0.500000  \n",
      "19685        3000           1498.0     98800.00     290.00     3.000000  \n",
      "19686      440900           1356.2  29586735.11   96373.73     1.285000  \n",
      "19687        5488           1356.2  26242746.82   85481.26     0.016667  \n",
      "19688      392160           1356.2  22778368.48   74196.64     1.261818  \n",
      "\n",
      "[19689 rows x 10 columns]\n"
     ]
    }
   ],
   "source": [
    "df=pd.DataFrame(d)\n",
    "print(df)"
   ]
  },
  {
   "cell_type": "markdown",
   "id": "50bc619c",
   "metadata": {},
   "source": [
    "Understanding/Analyzing the Data"
   ]
  },
  {
   "cell_type": "code",
   "execution_count": 89,
   "id": "74f9a651",
   "metadata": {},
   "outputs": [
    {
     "name": "stdout",
     "output_type": "stream",
     "text": [
      "           Crop  Crop_Year       Season  State     Area  Production  \\\n",
      "0      Arecanut       1997  Whole Year   Assam  73814.0       56708   \n",
      "1     Arhar/Tur       1997  Kharif       Assam   6637.0        4685   \n",
      "2   Castor seed       1997  Kharif       Assam    796.0          22   \n",
      "3      Coconut        1997  Whole Year   Assam  19656.0   126905000   \n",
      "4  Cotton(lint)       1997  Kharif       Assam   1739.0         794   \n",
      "\n",
      "   Annual_Rainfall  Fertilizer  Pesticide        Yield  \n",
      "0           2051.4  7024878.38   22882.34     0.796087  \n",
      "1           2051.4   631643.29    2057.47     0.710435  \n",
      "2           2051.4    75755.32     246.76     0.238333  \n",
      "3           2051.4  1870661.52    6093.36  5238.051739  \n",
      "4           2051.4   165500.63     539.09     0.420909  \n"
     ]
    }
   ],
   "source": [
    "print(df.head())"
   ]
  },
  {
   "cell_type": "code",
   "execution_count": 90,
   "id": "5e0eb3ee",
   "metadata": {},
   "outputs": [
    {
     "name": "stdout",
     "output_type": "stream",
     "text": [
      "                Crop  Crop_Year       Season              State      Area  \\\n",
      "19684  Small millets       1998  Kharif                Nagaland    4000.0   \n",
      "19685          Wheat       1998  Rabi                  Nagaland    1000.0   \n",
      "19686          Maize       1997  Kharif       Jammu and Kashmir  310883.0   \n",
      "19687           Rice       1997  Kharif       Jammu and Kashmir  275746.0   \n",
      "19688          Wheat       1997  Rabi         Jammu and Kashmir  239344.0   \n",
      "\n",
      "       Production  Annual_Rainfall   Fertilizer  Pesticide     Yield  \n",
      "19684        2000           1498.0    395200.00    1160.00  0.500000  \n",
      "19685        3000           1498.0     98800.00     290.00  3.000000  \n",
      "19686      440900           1356.2  29586735.11   96373.73  1.285000  \n",
      "19687        5488           1356.2  26242746.82   85481.26  0.016667  \n",
      "19688      392160           1356.2  22778368.48   74196.64  1.261818  \n"
     ]
    }
   ],
   "source": [
    "print(df.tail())"
   ]
  },
  {
   "cell_type": "code",
   "execution_count": 91,
   "id": "1331be6f",
   "metadata": {},
   "outputs": [
    {
     "data": {
      "text/html": [
       "<div>\n",
       "<style scoped>\n",
       "    .dataframe tbody tr th:only-of-type {\n",
       "        vertical-align: middle;\n",
       "    }\n",
       "\n",
       "    .dataframe tbody tr th {\n",
       "        vertical-align: top;\n",
       "    }\n",
       "\n",
       "    .dataframe thead th {\n",
       "        text-align: right;\n",
       "    }\n",
       "</style>\n",
       "<table border=\"1\" class=\"dataframe\">\n",
       "  <thead>\n",
       "    <tr style=\"text-align: right;\">\n",
       "      <th></th>\n",
       "      <th>Crop</th>\n",
       "      <th>Crop_Year</th>\n",
       "      <th>Season</th>\n",
       "      <th>State</th>\n",
       "      <th>Area</th>\n",
       "      <th>Production</th>\n",
       "      <th>Annual_Rainfall</th>\n",
       "      <th>Fertilizer</th>\n",
       "      <th>Pesticide</th>\n",
       "      <th>Yield</th>\n",
       "    </tr>\n",
       "  </thead>\n",
       "  <tbody>\n",
       "    <tr>\n",
       "      <th>18155</th>\n",
       "      <td>Tapioca</td>\n",
       "      <td>2014</td>\n",
       "      <td>Kharif</td>\n",
       "      <td>Puducherry</td>\n",
       "      <td>188.0</td>\n",
       "      <td>4782</td>\n",
       "      <td>1330.0</td>\n",
       "      <td>28380.48</td>\n",
       "      <td>62.04</td>\n",
       "      <td>25.440000</td>\n",
       "    </tr>\n",
       "    <tr>\n",
       "      <th>13208</th>\n",
       "      <td>Horse-gram</td>\n",
       "      <td>2013</td>\n",
       "      <td>Kharif</td>\n",
       "      <td>Himachal Pradesh</td>\n",
       "      <td>1750.0</td>\n",
       "      <td>613</td>\n",
       "      <td>1216.9</td>\n",
       "      <td>252857.50</td>\n",
       "      <td>472.50</td>\n",
       "      <td>0.352000</td>\n",
       "    </tr>\n",
       "    <tr>\n",
       "      <th>18360</th>\n",
       "      <td>Dry chillies</td>\n",
       "      <td>2019</td>\n",
       "      <td>Kharif</td>\n",
       "      <td>Jammu and Kashmir</td>\n",
       "      <td>678.0</td>\n",
       "      <td>548</td>\n",
       "      <td>1324.1</td>\n",
       "      <td>116453.28</td>\n",
       "      <td>250.86</td>\n",
       "      <td>0.862727</td>\n",
       "    </tr>\n",
       "    <tr>\n",
       "      <th>883</th>\n",
       "      <td>Other Kharif pulses</td>\n",
       "      <td>2001</td>\n",
       "      <td>Kharif</td>\n",
       "      <td>Karnataka</td>\n",
       "      <td>137310.0</td>\n",
       "      <td>42618</td>\n",
       "      <td>1002.9</td>\n",
       "      <td>14023470.30</td>\n",
       "      <td>35700.60</td>\n",
       "      <td>0.276400</td>\n",
       "    </tr>\n",
       "    <tr>\n",
       "      <th>17310</th>\n",
       "      <td>Sunflower</td>\n",
       "      <td>2019</td>\n",
       "      <td>Kharif</td>\n",
       "      <td>West Bengal</td>\n",
       "      <td>7842.0</td>\n",
       "      <td>9576</td>\n",
       "      <td>1733.4</td>\n",
       "      <td>1346941.92</td>\n",
       "      <td>2901.54</td>\n",
       "      <td>1.114667</td>\n",
       "    </tr>\n",
       "  </tbody>\n",
       "</table>\n",
       "</div>"
      ],
      "text/plain": [
       "                      Crop  Crop_Year       Season              State  \\\n",
       "18155              Tapioca       2014  Kharif              Puducherry   \n",
       "13208           Horse-gram       2013  Kharif        Himachal Pradesh   \n",
       "18360         Dry chillies       2019  Kharif       Jammu and Kashmir   \n",
       "883    Other Kharif pulses       2001  Kharif               Karnataka   \n",
       "17310            Sunflower       2019  Kharif             West Bengal   \n",
       "\n",
       "           Area  Production  Annual_Rainfall   Fertilizer  Pesticide  \\\n",
       "18155     188.0        4782           1330.0     28380.48      62.04   \n",
       "13208    1750.0         613           1216.9    252857.50     472.50   \n",
       "18360     678.0         548           1324.1    116453.28     250.86   \n",
       "883    137310.0       42618           1002.9  14023470.30   35700.60   \n",
       "17310    7842.0        9576           1733.4   1346941.92    2901.54   \n",
       "\n",
       "           Yield  \n",
       "18155  25.440000  \n",
       "13208   0.352000  \n",
       "18360   0.862727  \n",
       "883     0.276400  \n",
       "17310   1.114667  "
      ]
     },
     "execution_count": 91,
     "metadata": {},
     "output_type": "execute_result"
    }
   ],
   "source": [
    "df.sample(5)"
   ]
  },
  {
   "cell_type": "code",
   "execution_count": 92,
   "id": "285f4a8e",
   "metadata": {},
   "outputs": [
    {
     "data": {
      "text/plain": [
       "(19689, 10)"
      ]
     },
     "execution_count": 92,
     "metadata": {},
     "output_type": "execute_result"
    }
   ],
   "source": [
    "df.shape"
   ]
  },
  {
   "cell_type": "code",
   "execution_count": 93,
   "id": "b37599c7",
   "metadata": {},
   "outputs": [
    {
     "data": {
      "text/plain": [
       "Index(['Crop', 'Crop_Year', 'Season', 'State', 'Area', 'Production',\n",
       "       'Annual_Rainfall', 'Fertilizer', 'Pesticide', 'Yield'],\n",
       "      dtype='object')"
      ]
     },
     "execution_count": 93,
     "metadata": {},
     "output_type": "execute_result"
    }
   ],
   "source": [
    "df.columns"
   ]
  },
  {
   "cell_type": "code",
   "execution_count": 94,
   "id": "fa73b634",
   "metadata": {},
   "outputs": [
    {
     "data": {
      "text/plain": [
       "array([['Arecanut', 1997, 'Whole Year ', ..., 7024878.38, 22882.34,\n",
       "        0.796086957],\n",
       "       ['Arhar/Tur', 1997, 'Kharif     ', ..., 631643.29, 2057.47,\n",
       "        0.710434783],\n",
       "       ['Castor seed', 1997, 'Kharif     ', ..., 75755.32, 246.76,\n",
       "        0.238333333],\n",
       "       ...,\n",
       "       ['Maize', 1997, 'Kharif     ', ..., 29586735.11, 96373.73, 1.285],\n",
       "       ['Rice', 1997, 'Kharif     ', ..., 26242746.82, 85481.26,\n",
       "        0.016666667],\n",
       "       ['Wheat', 1997, 'Rabi       ', ..., 22778368.48, 74196.64,\n",
       "        1.261818182]], dtype=object)"
      ]
     },
     "execution_count": 94,
     "metadata": {},
     "output_type": "execute_result"
    }
   ],
   "source": [
    "df.values"
   ]
  },
  {
   "cell_type": "code",
   "execution_count": 95,
   "id": "4cc53732",
   "metadata": {},
   "outputs": [
    {
     "name": "stdout",
     "output_type": "stream",
     "text": [
      "<class 'pandas.core.frame.DataFrame'>\n",
      "RangeIndex: 19689 entries, 0 to 19688\n",
      "Data columns (total 10 columns):\n",
      " #   Column           Non-Null Count  Dtype  \n",
      "---  ------           --------------  -----  \n",
      " 0   Crop             19689 non-null  object \n",
      " 1   Crop_Year        19689 non-null  int64  \n",
      " 2   Season           19689 non-null  object \n",
      " 3   State            19689 non-null  object \n",
      " 4   Area             19689 non-null  float64\n",
      " 5   Production       19689 non-null  int64  \n",
      " 6   Annual_Rainfall  19689 non-null  float64\n",
      " 7   Fertilizer       19689 non-null  float64\n",
      " 8   Pesticide        19689 non-null  float64\n",
      " 9   Yield            19689 non-null  float64\n",
      "dtypes: float64(5), int64(2), object(3)\n",
      "memory usage: 1.5+ MB\n",
      "None\n"
     ]
    }
   ],
   "source": [
    "print(df.info())"
   ]
  },
  {
   "cell_type": "code",
   "execution_count": 96,
   "id": "f11140a4",
   "metadata": {},
   "outputs": [
    {
     "data": {
      "text/html": [
       "<div>\n",
       "<style scoped>\n",
       "    .dataframe tbody tr th:only-of-type {\n",
       "        vertical-align: middle;\n",
       "    }\n",
       "\n",
       "    .dataframe tbody tr th {\n",
       "        vertical-align: top;\n",
       "    }\n",
       "\n",
       "    .dataframe thead th {\n",
       "        text-align: right;\n",
       "    }\n",
       "</style>\n",
       "<table border=\"1\" class=\"dataframe\">\n",
       "  <thead>\n",
       "    <tr style=\"text-align: right;\">\n",
       "      <th></th>\n",
       "      <th>Crop_Year</th>\n",
       "      <th>Area</th>\n",
       "      <th>Production</th>\n",
       "      <th>Annual_Rainfall</th>\n",
       "      <th>Fertilizer</th>\n",
       "      <th>Pesticide</th>\n",
       "      <th>Yield</th>\n",
       "    </tr>\n",
       "  </thead>\n",
       "  <tbody>\n",
       "    <tr>\n",
       "      <th>count</th>\n",
       "      <td>19689.000000</td>\n",
       "      <td>1.968900e+04</td>\n",
       "      <td>1.968900e+04</td>\n",
       "      <td>19689.000000</td>\n",
       "      <td>1.968900e+04</td>\n",
       "      <td>1.968900e+04</td>\n",
       "      <td>19689.000000</td>\n",
       "    </tr>\n",
       "    <tr>\n",
       "      <th>mean</th>\n",
       "      <td>2009.127584</td>\n",
       "      <td>1.799266e+05</td>\n",
       "      <td>1.643594e+07</td>\n",
       "      <td>1437.755177</td>\n",
       "      <td>2.410331e+07</td>\n",
       "      <td>4.884835e+04</td>\n",
       "      <td>79.954009</td>\n",
       "    </tr>\n",
       "    <tr>\n",
       "      <th>std</th>\n",
       "      <td>6.498099</td>\n",
       "      <td>7.328287e+05</td>\n",
       "      <td>2.630568e+08</td>\n",
       "      <td>816.909589</td>\n",
       "      <td>9.494600e+07</td>\n",
       "      <td>2.132874e+05</td>\n",
       "      <td>878.306193</td>\n",
       "    </tr>\n",
       "    <tr>\n",
       "      <th>min</th>\n",
       "      <td>1997.000000</td>\n",
       "      <td>5.000000e-01</td>\n",
       "      <td>0.000000e+00</td>\n",
       "      <td>301.300000</td>\n",
       "      <td>5.417000e+01</td>\n",
       "      <td>9.000000e-02</td>\n",
       "      <td>0.000000</td>\n",
       "    </tr>\n",
       "    <tr>\n",
       "      <th>25%</th>\n",
       "      <td>2004.000000</td>\n",
       "      <td>1.390000e+03</td>\n",
       "      <td>1.393000e+03</td>\n",
       "      <td>940.700000</td>\n",
       "      <td>1.880146e+05</td>\n",
       "      <td>3.567000e+02</td>\n",
       "      <td>0.600000</td>\n",
       "    </tr>\n",
       "    <tr>\n",
       "      <th>50%</th>\n",
       "      <td>2010.000000</td>\n",
       "      <td>9.317000e+03</td>\n",
       "      <td>1.380400e+04</td>\n",
       "      <td>1247.600000</td>\n",
       "      <td>1.234957e+06</td>\n",
       "      <td>2.421900e+03</td>\n",
       "      <td>1.030000</td>\n",
       "    </tr>\n",
       "    <tr>\n",
       "      <th>75%</th>\n",
       "      <td>2015.000000</td>\n",
       "      <td>7.511200e+04</td>\n",
       "      <td>1.227180e+05</td>\n",
       "      <td>1643.700000</td>\n",
       "      <td>1.000385e+07</td>\n",
       "      <td>2.004170e+04</td>\n",
       "      <td>2.388889</td>\n",
       "    </tr>\n",
       "    <tr>\n",
       "      <th>max</th>\n",
       "      <td>2020.000000</td>\n",
       "      <td>5.080810e+07</td>\n",
       "      <td>6.326000e+09</td>\n",
       "      <td>6552.700000</td>\n",
       "      <td>4.835407e+09</td>\n",
       "      <td>1.575051e+07</td>\n",
       "      <td>21105.000000</td>\n",
       "    </tr>\n",
       "  </tbody>\n",
       "</table>\n",
       "</div>"
      ],
      "text/plain": [
       "          Crop_Year          Area    Production  Annual_Rainfall  \\\n",
       "count  19689.000000  1.968900e+04  1.968900e+04     19689.000000   \n",
       "mean    2009.127584  1.799266e+05  1.643594e+07      1437.755177   \n",
       "std        6.498099  7.328287e+05  2.630568e+08       816.909589   \n",
       "min     1997.000000  5.000000e-01  0.000000e+00       301.300000   \n",
       "25%     2004.000000  1.390000e+03  1.393000e+03       940.700000   \n",
       "50%     2010.000000  9.317000e+03  1.380400e+04      1247.600000   \n",
       "75%     2015.000000  7.511200e+04  1.227180e+05      1643.700000   \n",
       "max     2020.000000  5.080810e+07  6.326000e+09      6552.700000   \n",
       "\n",
       "         Fertilizer     Pesticide         Yield  \n",
       "count  1.968900e+04  1.968900e+04  19689.000000  \n",
       "mean   2.410331e+07  4.884835e+04     79.954009  \n",
       "std    9.494600e+07  2.132874e+05    878.306193  \n",
       "min    5.417000e+01  9.000000e-02      0.000000  \n",
       "25%    1.880146e+05  3.567000e+02      0.600000  \n",
       "50%    1.234957e+06  2.421900e+03      1.030000  \n",
       "75%    1.000385e+07  2.004170e+04      2.388889  \n",
       "max    4.835407e+09  1.575051e+07  21105.000000  "
      ]
     },
     "execution_count": 96,
     "metadata": {},
     "output_type": "execute_result"
    }
   ],
   "source": [
    "df.describe()"
   ]
  },
  {
   "cell_type": "markdown",
   "id": "8753b2c0",
   "metadata": {},
   "source": [
    "columns(categories) and their counts"
   ]
  },
  {
   "cell_type": "code",
   "execution_count": 97,
   "id": "d1ff82ef",
   "metadata": {},
   "outputs": [
    {
     "data": {
      "text/plain": [
       "Crop\n",
       "Rice                     1197\n",
       "Maize                     975\n",
       "Moong(Green Gram)         740\n",
       "Urad                      733\n",
       "Groundnut                 725\n",
       "Sesamum                   685\n",
       "Potato                    628\n",
       "Sugarcane                 605\n",
       "Wheat                     545\n",
       "Rapeseed &Mustard         528\n",
       "Bajra                     524\n",
       "Jowar                     513\n",
       "Arhar/Tur                 508\n",
       "Ragi                      498\n",
       "Gram                      490\n",
       "Small millets             485\n",
       "Cotton(lint)              476\n",
       "Onion                     454\n",
       "Sunflower                 441\n",
       "Dry chillies              419\n",
       "Other Kharif pulses       382\n",
       "Horse-gram                371\n",
       "Peas & beans (Pulses)     369\n",
       "Tobacco                   364\n",
       "Other  Rabi pulses        355\n",
       "Soyabean                  349\n",
       "Turmeric                  337\n",
       "Masoor                    324\n",
       "Ginger                    323\n",
       "Linseed                   308\n",
       "Castor seed               300\n",
       "Barley                    297\n",
       "Sweet potato              273\n",
       "Garlic                    250\n",
       "Banana                    245\n",
       "Mesta                     210\n",
       "Tapioca                   201\n",
       "Coriander                 199\n",
       "Niger seed                192\n",
       "Jute                      181\n",
       "Coconut                   172\n",
       "Safflower                 169\n",
       "Arecanut                  162\n",
       "Sannhamp                  160\n",
       "Other Cereals             146\n",
       "Cowpea(Lobia)             134\n",
       "Cashewnut                 134\n",
       "Black pepper              126\n",
       "other oilseeds            126\n",
       "Moth                      110\n",
       "Khesari                    75\n",
       "Cardamom                   74\n",
       "Guar seed                  63\n",
       "Oilseeds total             29\n",
       "Other Summer Pulses        10\n",
       "Name: count, dtype: int64"
      ]
     },
     "execution_count": 97,
     "metadata": {},
     "output_type": "execute_result"
    }
   ],
   "source": [
    "df['Crop'].value_counts()"
   ]
  },
  {
   "cell_type": "code",
   "execution_count": 98,
   "id": "0eaf556a",
   "metadata": {},
   "outputs": [
    {
     "data": {
      "text/plain": [
       "Crop_Year\n",
       "2019    1079\n",
       "2017    1070\n",
       "2018    1063\n",
       "2016    1036\n",
       "2015     998\n",
       "2013     976\n",
       "2014     965\n",
       "2011     907\n",
       "2012     894\n",
       "2009     865\n",
       "2010     859\n",
       "2008     847\n",
       "2007     828\n",
       "2006     823\n",
       "2002     815\n",
       "2005     811\n",
       "2003     801\n",
       "2004     787\n",
       "2000     772\n",
       "2001     750\n",
       "1999     650\n",
       "1998     646\n",
       "1997     410\n",
       "2020      37\n",
       "Name: count, dtype: int64"
      ]
     },
     "execution_count": 98,
     "metadata": {},
     "output_type": "execute_result"
    }
   ],
   "source": [
    " df['Crop_Year'].value_counts()"
   ]
  },
  {
   "cell_type": "code",
   "execution_count": 99,
   "id": "b7f3cdfb",
   "metadata": {},
   "outputs": [
    {
     "data": {
      "text/plain": [
       "Season\n",
       "Kharif         8232\n",
       "Rabi           5742\n",
       "Whole Year     3717\n",
       "Summer         1195\n",
       "Autumn          414\n",
       "Winter          389\n",
       "Name: count, dtype: int64"
      ]
     },
     "execution_count": 99,
     "metadata": {},
     "output_type": "execute_result"
    }
   ],
   "source": [
    "df['Season'].value_counts()"
   ]
  },
  {
   "cell_type": "code",
   "execution_count": 100,
   "id": "87c58eb5",
   "metadata": {},
   "outputs": [
    {
     "data": {
      "text/plain": [
       "State\n",
       "Karnataka            1432\n",
       "Andhra Pradesh       1266\n",
       "West Bengal          1094\n",
       "Chhattisgarh          915\n",
       "Bihar                 896\n",
       "Madhya Pradesh        845\n",
       "Uttar Pradesh         825\n",
       "Tamil Nadu            822\n",
       "Gujarat               817\n",
       "Maharashtra           770\n",
       "Uttarakhand           764\n",
       "Odisha                760\n",
       "Assam                 731\n",
       "Nagaland              689\n",
       "Puducherry            670\n",
       "Meghalaya             649\n",
       "Haryana               631\n",
       "Jammu and Kashmir     631\n",
       "Himachal Pradesh      616\n",
       "Kerala                534\n",
       "Manipur               444\n",
       "Tripura               441\n",
       "Mizoram               416\n",
       "Telangana             397\n",
       "Punjab                397\n",
       "Arunachal Pradesh     292\n",
       "Jharkhand             270\n",
       "Goa                   246\n",
       "Sikkim                226\n",
       "Delhi                 203\n",
       "Name: count, dtype: int64"
      ]
     },
     "execution_count": 100,
     "metadata": {},
     "output_type": "execute_result"
    }
   ],
   "source": [
    "df['State'].value_counts()"
   ]
  },
  {
   "cell_type": "code",
   "execution_count": 101,
   "id": "afd30970",
   "metadata": {},
   "outputs": [
    {
     "data": {
      "text/plain": [
       "array([ 73814.,   6637.,    796., ..., 310883., 275746., 239344.])"
      ]
     },
     "execution_count": 101,
     "metadata": {},
     "output_type": "execute_result"
    }
   ],
   "source": [
    "df.Area.unique()"
   ]
  },
  {
   "cell_type": "code",
   "execution_count": 102,
   "id": "4c060375",
   "metadata": {},
   "outputs": [
    {
     "data": {
      "text/plain": [
       "array([ 56708,   4685,     22, ..., 205000, 440900, 392160])"
      ]
     },
     "execution_count": 102,
     "metadata": {},
     "output_type": "execute_result"
    }
   ],
   "source": [
    "df.Production.unique()"
   ]
  },
  {
   "cell_type": "code",
   "execution_count": 103,
   "id": "090dc1ab",
   "metadata": {},
   "outputs": [
    {
     "data": {
      "text/plain": [
       "array([2051.4      , 1266.7      , 3252.4      , 3818.2      ,\n",
       "       1852.9      , 1434.5875   , 2354.4      , 2964.9      ,\n",
       "       1260.8      , 3151.5      , 6552.7      , 2152.5      ,\n",
       "       2201.8      , 3879.3      , 2914.6      , 6200.3      ,\n",
       "       2318.1      ,  935.6      , 1965.5      , 3886.9      ,\n",
       "       1213.3      , 2412.6      , 6258.8      , 1907.7      ,\n",
       "        928.4      , 1824.7      , 2530.6      , 1002.9      ,\n",
       "       2946.7      , 4241.       , 1556.6      ,  648.1      ,\n",
       "       1973.6      , 2516.3      , 2511.2      ,  315.9      ,\n",
       "       1629.1      ,  826.       , 2213.7      , 3011.6      ,\n",
       "        867.6      , 2386.       , 3321.3      ,  345.6      ,\n",
       "       1526.7      , 1117.7      , 2880.2      , 4767.9      ,\n",
       "       1034.       , 1075.5      , 2184.6      , 1316.2      ,\n",
       "       3030.9      , 3374.4      , 1364.1      , 1650.1      ,\n",
       "       2454.7      ,  845.2      , 1774.9      , 1146.3      ,\n",
       "       3429.7      ,  927.9      , 1631.4      , 2154.1      ,\n",
       "       1323.3      , 3489.6      , 1067.2      , 2007.5      ,\n",
       "        944.6      , 2109.9      , 1164.1      , 2524.8      ,\n",
       "       3114.3      , 1201.9      , 1560.1      ,  711.       ,\n",
       "       1727.1      , 1321.       , 2821.5      , 2995.9      ,\n",
       "        928.5      , 2578.5      , 1297.       , 1317.7      ,\n",
       "       3131.8      , 3119.7      , 1743.4      ,  861.9      ,\n",
       "       1178.986364 , 3035.1      , 4083.104545 ,  926.5      ,\n",
       "        968.7      , 2167.5      ,  956.2      , 2187.6      ,\n",
       "       2945.3      , 1062.3      , 1797.7      , 3642.6      ,\n",
       "       1235.6      , 3255.4      , 2448.4      ,  740.9      ,\n",
       "        687.6      , 1899.       , 3491.2      , 1238.5      ,\n",
       "       3046.4      , 3484.4      ,  911.3      ,  940.7      ,\n",
       "       1980.6      , 2155.3      , 3870.8      , 2587.1      ,\n",
       "       1024.9      , 2602.9      ,  890.       , 1391.3      ,\n",
       "       2296.8      , 3837.1      , 3266.9      , 1147.2      ,\n",
       "       2924.3      ,  912.4      ,  868.2      , 1582.4      ,\n",
       "       2098.563636 , 4472.3      , 2772.5      , 1111.7      ,\n",
       "       2664.8      ,  970.9      , 1220.5      , 1693.9      ,\n",
       "       2372.9      , 5649.1      , 4406.       , 1419.1      ,\n",
       "       2989.7      ,  986.2      ,  899.2      , 1317.       ,\n",
       "       2084.7      , 3844.4      , 4489.5      , 1422.3      ,\n",
       "       3119.2      ,  910.1      , 1496.6      ,  927.5      ,\n",
       "       1303.7      ,  798.9      , 1189.1      , 1156.1      ,\n",
       "       2644.2      ,  690.1      ,  473.9      , 1048.3      ,\n",
       "       1332.5      ,  775.6      , 1381.6      ,  962.7      ,\n",
       "       1314.8      ,  588.6      , 1077.1      , 2472.9      ,\n",
       "        743.4      , 1402.7      ,  458.9      ,  344.       ,\n",
       "       1144.9      , 1203.8      , 1222.9      , 1166.5      ,\n",
       "       1782.2      , 1484.3      ,  364.4      ,  922.8      ,\n",
       "        883.4      , 1207.       ,  896.4      ,  379.7      ,\n",
       "        383.7      , 1068.4      ,  723.3      , 1057.8      ,\n",
       "       2834.3      , 1631.8      , 1066.       ,  405.3      ,\n",
       "        971.1      ,  874.4      , 1413.4      , 1247.       ,\n",
       "       1550.       ,  666.5      ,  483.8      ,  918.1      ,\n",
       "        955.       , 1035.8      , 2406.4      , 1532.       ,\n",
       "       1672.5      ,  479.3      ,  481.3      ,  849.9      ,\n",
       "       1541.3      , 1105.8      , 1001.4      ,  458.4      ,\n",
       "        353.9      ,  890.8      ,  860.8      ,  800.8      ,\n",
       "        967.4      , 4355.3      , 2627.       , 1536.6      ,\n",
       "       1102.8      ,  301.8      , 1610.3      , 1041.2      ,\n",
       "       1353.9      , 1643.7      ,  962.3      ,  902.5      ,\n",
       "        592.3      , 1258.3      , 1163.       , 1037.4      ,\n",
       "        687.7      , 2499.5      , 1709.8      , 1648.2      ,\n",
       "        451.7      , 1075.6      , 1734.3      ,  781.8      ,\n",
       "       2536.9      , 1147.8      , 1122.8      ,  651.9      ,\n",
       "        719.8      ,  484.6      ,  895.7      , 1052.       ,\n",
       "       1711.5      ,  366.4      , 2706.3      , 1219.6      ,\n",
       "       1149.2      , 1612.9      ,  907.8      , 1292.7      ,\n",
       "        653.1      ,  942.4      ,  516.9      , 1248.1      ,\n",
       "       1032.7      , 1387.2      , 2075.4      , 1568.6      ,\n",
       "        566.7      , 1765.9      , 1353.3      ,  965.2      ,\n",
       "       1052.8      , 1317.2      ,  462.7      , 1056.2      ,\n",
       "        329.3      , 1072.3      , 1439.4      , 1362.5      ,\n",
       "        569.6      , 1764.3      ,  590.5      , 1178.9      ,\n",
       "       1465.1      , 1004.2      , 1600.2      , 1246.2      ,\n",
       "       1021.6      ,  443.8      , 1095.4      ,  740.4      ,\n",
       "       1257.2      , 4702.       , 1769.       ,  527.2      ,\n",
       "       2831.8      ,  672.9      , 1924.3      , 1444.7      ,\n",
       "       1197.7      , 1117.9      ,  746.1      ,  715.6      ,\n",
       "       1357.1      ,  895.       , 1134.8      , 1540.9      ,\n",
       "        691.3      , 1827.8      ,  891.6      , 1363.7      ,\n",
       "       1390.1      , 1295.2      ,  889.3      ,  956.9      ,\n",
       "        618.       ,  393.       ,  969.9      , 1002.4      ,\n",
       "        992.5      , 1225.9      ,  371.3      , 2004.2      ,\n",
       "        585.8      ,  847.8      ,  996.1      ,  904.1      ,\n",
       "        629.2      , 1283.1      , 1107.5      ,  639.2      ,\n",
       "       1319.8      ,  856.3      , 1389.       , 2160.5      ,\n",
       "       2738.7      , 1771.8      ,  392.7      , 1095.2      ,\n",
       "       2348.3      ,  742.6      , 1419.       , 1352.       ,\n",
       "        694.6      , 1096.       , 1097.1      , 1302.7      ,\n",
       "        890.5      ,  471.5409091, 1108.3      ,  852.6      ,\n",
       "       1174.095455 , 1533.561905 , 2439.340909 , 1544.354545 ,\n",
       "        705.2      , 2295.609091 ,  777.4      , 1564.7      ,\n",
       "       1374.7      , 1686.5      ,  924.1      , 1366.8      ,\n",
       "        460.6      ,  307.9      , 1035.       , 1049.5      ,\n",
       "       1003.4      , 1176.7      , 2050.2      , 1296.6      ,\n",
       "        338.9      ,  706.8      , 1882.2      ,  746.3      ,\n",
       "       1309.8      , 1102.       , 1566.       , 1069.9      ,\n",
       "       1418.3      , 1006.5      ,  452.2      , 1216.9      ,\n",
       "       1451.4      , 1409.8      , 1428.8      , 1848.8      ,\n",
       "       1350.9      ,  586.6      , 1348.7      , 2043.5      ,\n",
       "        995.2      , 1735.4      , 1253.6      , 1939.9      ,\n",
       "       1061.       , 1274.7      ,  605.6      ,  301.3      ,\n",
       "       1019.9      ,  891.2      , 1001.6      ,  987.5      ,\n",
       "       2029.9      , 1333.3      ,  382.7      ,  746.4      ,\n",
       "       2015.7      ,  616.4      , 1287.4      , 1156.6      ,\n",
       "       1483.5      ,  874.       , 1136.       ,  584.3      ,\n",
       "        426.8      , 1223.2      , 1000.7      ,  875.7      ,\n",
       "       1329.1      , 2310.8      , 1308.3      ,  512.6      ,\n",
       "        747.9      , 2334.4      ,  596.7      , 1247.6      ,\n",
       "       1085.6      , 1717.       , 2933.7      , 1205.6      ,\n",
       "       1298.9      ,  710.5      ,  554.7      , 1373.9      ,\n",
       "       1048.4      , 1151.1      , 2039.8      , 2626.8      ,\n",
       "       1959.8      ,  635.9      ,  942.6      , 2475.3      ,\n",
       "        965.3      , 1580.9      , 1296.3      , 1795.8      ,\n",
       "       2745.5      , 1112.       , 1124.5      ,  814.8      ,\n",
       "        417.1      , 1182.2      , 1165.7      ,  800.       ,\n",
       "       1129.5      , 1780.       , 3865.8      , 1722.1      ,\n",
       "        497.5      ,  815.7      , 3326.8      ,  652.1      ,\n",
       "       1475.8      , 1830.       , 2992.9      , 1521.4      ,\n",
       "       1515.5      , 1125.4      ,  533.2      , 1052.2      ,\n",
       "       1222.7      , 1102.2      , 1387.4      , 1196.9      ,\n",
       "       1665.2      , 1372.7      ,  585.5      , 1350.3      ,\n",
       "       2169.1      ,  792.8      , 1373.       , 2012.6      ,\n",
       "       2433.3      , 1194.7      , 1420.3      , 1067.8      ,\n",
       "        351.8      , 1217.7      , 1137.8      , 1446.7      ,\n",
       "       1555.8      , 2178.5      , 1593.       , 1593.9      ,\n",
       "        653.2      , 1031.7      , 2252.8      ,  814.5      ,\n",
       "       1378.9      , 1733.4      , 1313.947826 ,  661.2      ,\n",
       "       1398.5      ,  784.5      ,  650.4      ,  365.9      ,\n",
       "        667.1      ,  544.3      ,  989.5      ,  611.9      ,\n",
       "        953.8      ,  593.6      ,  933.2      ,  664.       ,\n",
       "       1112.6      , 1430.3      ,  939.2      , 1032.1      ,\n",
       "       1290.4      ,  704.       , 1721.8      ,  751.9      ,\n",
       "       1786.5      ,  677.5      , 1042.2      ,  614.6      ,\n",
       "        528.4      ,  751.7      ,  641.3954545,  887.6      ,\n",
       "        451.9      , 1116.7      , 1098.3      , 1083.2      ,\n",
       "        416.4      , 1278.4      , 1330.       ,  757.7      ,\n",
       "       1572.6      ,  747.1      ,  902.8      ,  533.7      ,\n",
       "       1279.1      ,  678.5      , 1016.3      ,  546.9      ,\n",
       "       1324.1      , 2053.3      , 1855.       , 2092.7      ,\n",
       "       1969.7      , 2013.1      , 1743.7      , 1613.3      ,\n",
       "       1585.4      , 1435.7      , 2804.1      , 3183.8      ,\n",
       "       2678.5      , 2504.8      , 2372.5      , 2496.2      ,\n",
       "       2838.1      , 1650.5      , 2041.6      , 2270.2      ,\n",
       "       2003.4      , 2247.5      , 2176.6      , 2527.       ,\n",
       "       2585.486364 , 3006.9      , 1193.8      , 2567.6      ,\n",
       "       2949.1      , 2971.6      , 2873.6      , 3350.1      ,\n",
       "       2740.       , 2518.       , 3392.8      , 2928.8      ,\n",
       "       3674.7      , 2640.7      , 2535.9      , 2147.4      ,\n",
       "       2437.5      , 2284.4      , 2579.8      , 2487.9      ,\n",
       "       2640.8      , 2353.       , 3095.2      , 1912.1      ,\n",
       "       2086.3      , 3616.7      , 2338.6      , 2157.7      ,\n",
       "       2128.5      , 2832.8      , 2782.2      , 2939.5      ,\n",
       "       2767.       , 1940.       , 3223.9      , 2244.4      ,\n",
       "       1701.9      , 2574.1      , 2193.7      , 2760.7      ,\n",
       "       2042.9      , 2403.2      , 2593.2      , 3680.3      ,\n",
       "       2274.9      , 1503.4      , 1716.9      , 1633.8      ,\n",
       "       1539.       , 3271.6      , 1330.3      , 3334.9      ,\n",
       "       1291.9      , 4193.3      , 1346.2      , 3340.395455 ,\n",
       "       1430.2      , 3048.9      , 1632.4      , 1536.9      ,\n",
       "       1210.1      , 1460.5      , 1344.4      , 1635.9      ,\n",
       "       1498.       , 1356.2      ])"
      ]
     },
     "execution_count": 103,
     "metadata": {},
     "output_type": "execute_result"
    }
   ],
   "source": [
    "df.Annual_Rainfall.unique()"
   ]
  },
  {
   "cell_type": "code",
   "execution_count": 104,
   "id": "9040e068",
   "metadata": {},
   "outputs": [
    {
     "data": {
      "text/plain": [
       "array([ 7024878.38,   631643.29,    75755.32, ..., 29586735.11,\n",
       "       26242746.82, 22778368.48])"
      ]
     },
     "execution_count": 104,
     "metadata": {},
     "output_type": "execute_result"
    }
   ],
   "source": [
    "df.Fertilizer.unique()"
   ]
  },
  {
   "cell_type": "code",
   "execution_count": 105,
   "id": "3af21ab8",
   "metadata": {},
   "outputs": [
    {
     "data": {
      "text/plain": [
       "array([22882.34,  2057.47,   246.76, ..., 96373.73, 85481.26, 74196.64])"
      ]
     },
     "execution_count": 105,
     "metadata": {},
     "output_type": "execute_result"
    }
   ],
   "source": [
    "df.Pesticide.unique()"
   ]
  },
  {
   "cell_type": "code",
   "execution_count": 106,
   "id": "41119c63",
   "metadata": {},
   "outputs": [
    {
     "data": {
      "text/plain": [
       "array([0.79608696, 0.71043478, 0.23833333, ..., 1.44142857, 0.01666667,\n",
       "       1.26181818])"
      ]
     },
     "execution_count": 106,
     "metadata": {},
     "output_type": "execute_result"
    }
   ],
   "source": [
    "df.Yield.unique()"
   ]
  },
  {
   "cell_type": "markdown",
   "id": "8a243803",
   "metadata": {},
   "source": [
    "Finding and filling Null Values"
   ]
  },
  {
   "cell_type": "code",
   "execution_count": 107,
   "id": "4dfafe8d",
   "metadata": {},
   "outputs": [
    {
     "data": {
      "text/html": [
       "<div>\n",
       "<style scoped>\n",
       "    .dataframe tbody tr th:only-of-type {\n",
       "        vertical-align: middle;\n",
       "    }\n",
       "\n",
       "    .dataframe tbody tr th {\n",
       "        vertical-align: top;\n",
       "    }\n",
       "\n",
       "    .dataframe thead th {\n",
       "        text-align: right;\n",
       "    }\n",
       "</style>\n",
       "<table border=\"1\" class=\"dataframe\">\n",
       "  <thead>\n",
       "    <tr style=\"text-align: right;\">\n",
       "      <th></th>\n",
       "      <th>Crop</th>\n",
       "      <th>Crop_Year</th>\n",
       "      <th>Season</th>\n",
       "      <th>State</th>\n",
       "      <th>Area</th>\n",
       "      <th>Production</th>\n",
       "      <th>Annual_Rainfall</th>\n",
       "      <th>Fertilizer</th>\n",
       "      <th>Pesticide</th>\n",
       "      <th>Yield</th>\n",
       "    </tr>\n",
       "  </thead>\n",
       "  <tbody>\n",
       "    <tr>\n",
       "      <th>0</th>\n",
       "      <td>False</td>\n",
       "      <td>False</td>\n",
       "      <td>False</td>\n",
       "      <td>False</td>\n",
       "      <td>False</td>\n",
       "      <td>False</td>\n",
       "      <td>False</td>\n",
       "      <td>False</td>\n",
       "      <td>False</td>\n",
       "      <td>False</td>\n",
       "    </tr>\n",
       "    <tr>\n",
       "      <th>1</th>\n",
       "      <td>False</td>\n",
       "      <td>False</td>\n",
       "      <td>False</td>\n",
       "      <td>False</td>\n",
       "      <td>False</td>\n",
       "      <td>False</td>\n",
       "      <td>False</td>\n",
       "      <td>False</td>\n",
       "      <td>False</td>\n",
       "      <td>False</td>\n",
       "    </tr>\n",
       "    <tr>\n",
       "      <th>2</th>\n",
       "      <td>False</td>\n",
       "      <td>False</td>\n",
       "      <td>False</td>\n",
       "      <td>False</td>\n",
       "      <td>False</td>\n",
       "      <td>False</td>\n",
       "      <td>False</td>\n",
       "      <td>False</td>\n",
       "      <td>False</td>\n",
       "      <td>False</td>\n",
       "    </tr>\n",
       "    <tr>\n",
       "      <th>3</th>\n",
       "      <td>False</td>\n",
       "      <td>False</td>\n",
       "      <td>False</td>\n",
       "      <td>False</td>\n",
       "      <td>False</td>\n",
       "      <td>False</td>\n",
       "      <td>False</td>\n",
       "      <td>False</td>\n",
       "      <td>False</td>\n",
       "      <td>False</td>\n",
       "    </tr>\n",
       "    <tr>\n",
       "      <th>4</th>\n",
       "      <td>False</td>\n",
       "      <td>False</td>\n",
       "      <td>False</td>\n",
       "      <td>False</td>\n",
       "      <td>False</td>\n",
       "      <td>False</td>\n",
       "      <td>False</td>\n",
       "      <td>False</td>\n",
       "      <td>False</td>\n",
       "      <td>False</td>\n",
       "    </tr>\n",
       "    <tr>\n",
       "      <th>...</th>\n",
       "      <td>...</td>\n",
       "      <td>...</td>\n",
       "      <td>...</td>\n",
       "      <td>...</td>\n",
       "      <td>...</td>\n",
       "      <td>...</td>\n",
       "      <td>...</td>\n",
       "      <td>...</td>\n",
       "      <td>...</td>\n",
       "      <td>...</td>\n",
       "    </tr>\n",
       "    <tr>\n",
       "      <th>19684</th>\n",
       "      <td>False</td>\n",
       "      <td>False</td>\n",
       "      <td>False</td>\n",
       "      <td>False</td>\n",
       "      <td>False</td>\n",
       "      <td>False</td>\n",
       "      <td>False</td>\n",
       "      <td>False</td>\n",
       "      <td>False</td>\n",
       "      <td>False</td>\n",
       "    </tr>\n",
       "    <tr>\n",
       "      <th>19685</th>\n",
       "      <td>False</td>\n",
       "      <td>False</td>\n",
       "      <td>False</td>\n",
       "      <td>False</td>\n",
       "      <td>False</td>\n",
       "      <td>False</td>\n",
       "      <td>False</td>\n",
       "      <td>False</td>\n",
       "      <td>False</td>\n",
       "      <td>False</td>\n",
       "    </tr>\n",
       "    <tr>\n",
       "      <th>19686</th>\n",
       "      <td>False</td>\n",
       "      <td>False</td>\n",
       "      <td>False</td>\n",
       "      <td>False</td>\n",
       "      <td>False</td>\n",
       "      <td>False</td>\n",
       "      <td>False</td>\n",
       "      <td>False</td>\n",
       "      <td>False</td>\n",
       "      <td>False</td>\n",
       "    </tr>\n",
       "    <tr>\n",
       "      <th>19687</th>\n",
       "      <td>False</td>\n",
       "      <td>False</td>\n",
       "      <td>False</td>\n",
       "      <td>False</td>\n",
       "      <td>False</td>\n",
       "      <td>False</td>\n",
       "      <td>False</td>\n",
       "      <td>False</td>\n",
       "      <td>False</td>\n",
       "      <td>False</td>\n",
       "    </tr>\n",
       "    <tr>\n",
       "      <th>19688</th>\n",
       "      <td>False</td>\n",
       "      <td>False</td>\n",
       "      <td>False</td>\n",
       "      <td>False</td>\n",
       "      <td>False</td>\n",
       "      <td>False</td>\n",
       "      <td>False</td>\n",
       "      <td>False</td>\n",
       "      <td>False</td>\n",
       "      <td>False</td>\n",
       "    </tr>\n",
       "  </tbody>\n",
       "</table>\n",
       "<p>19689 rows × 10 columns</p>\n",
       "</div>"
      ],
      "text/plain": [
       "        Crop  Crop_Year  Season  State   Area  Production  Annual_Rainfall  \\\n",
       "0      False      False   False  False  False       False            False   \n",
       "1      False      False   False  False  False       False            False   \n",
       "2      False      False   False  False  False       False            False   \n",
       "3      False      False   False  False  False       False            False   \n",
       "4      False      False   False  False  False       False            False   \n",
       "...      ...        ...     ...    ...    ...         ...              ...   \n",
       "19684  False      False   False  False  False       False            False   \n",
       "19685  False      False   False  False  False       False            False   \n",
       "19686  False      False   False  False  False       False            False   \n",
       "19687  False      False   False  False  False       False            False   \n",
       "19688  False      False   False  False  False       False            False   \n",
       "\n",
       "       Fertilizer  Pesticide  Yield  \n",
       "0           False      False  False  \n",
       "1           False      False  False  \n",
       "2           False      False  False  \n",
       "3           False      False  False  \n",
       "4           False      False  False  \n",
       "...           ...        ...    ...  \n",
       "19684       False      False  False  \n",
       "19685       False      False  False  \n",
       "19686       False      False  False  \n",
       "19687       False      False  False  \n",
       "19688       False      False  False  \n",
       "\n",
       "[19689 rows x 10 columns]"
      ]
     },
     "execution_count": 107,
     "metadata": {},
     "output_type": "execute_result"
    }
   ],
   "source": [
    "df.isnull()"
   ]
  },
  {
   "cell_type": "code",
   "execution_count": 108,
   "id": "faca3629",
   "metadata": {},
   "outputs": [
    {
     "data": {
      "text/plain": [
       "Crop               0\n",
       "Crop_Year          0\n",
       "Season             0\n",
       "State              0\n",
       "Area               0\n",
       "Production         0\n",
       "Annual_Rainfall    0\n",
       "Fertilizer         0\n",
       "Pesticide          0\n",
       "Yield              0\n",
       "dtype: int64"
      ]
     },
     "execution_count": 108,
     "metadata": {},
     "output_type": "execute_result"
    }
   ],
   "source": [
    "df.isnull().sum()"
   ]
  },
  {
   "cell_type": "markdown",
   "id": "ce33b269",
   "metadata": {},
   "source": [
    "Data visualization"
   ]
  },
  {
   "cell_type": "code",
   "execution_count": 109,
   "id": "7cae448f",
   "metadata": {},
   "outputs": [
    {
     "data": {
      "image/png": "[encoded data removed]",
      "text/plain": [
       "<Figure size 1000x600 with 1 Axes>"
      ]
     },
     "metadata": {},
     "output_type": "display_data"
    }
   ],
   "source": [
    "\n",
    "data = {\n",
    "    'Crop': ['Arecanut', 'Arhar/Tur', 'Castor seed', 'Coconut', 'Cotton(lint)', \n",
    "             'Dry chillies', 'Gram', 'Jute', 'Linseed', 'Maize'],\n",
    "    'Crop_Year': [1997]*10,\n",
    "    'Season': ['Whole Year', 'Kharif', 'Kharif', 'Whole Year', 'Kharif', \n",
    "               'Whole Year', 'Rabi', 'Kharif', 'Rabi', 'Kharif'],\n",
    "    'State': ['Assam']*10,\n",
    "    'Area': [73814.0, 6637.0, 796.0, 19656.0, 1739.0, 13587.0, 2979.0, 94520.0, 10098.0, 19216.0],\n",
    "    'Production': [56708, 4685, 22, 126905000, 794, 9073, 1507, 904095, 5158, 14721],\n",
    "    'Annual_Rainfall': [2051.4]*10,\n",
    "    'Fertilizer': [7024878.38, 631643.29, 75755.32, 1870661.52, 165500.63, \n",
    "                   1293074.79, 283511.43, 8995468.40, 961026.66, 1828786.72],\n",
    "    'Pesticide': [22882.34, 2057.47, 246.76, 6093.36, 539.09, 4211.97, 923.49, 29301.20, 3130.38, 5956.96],\n",
    "    'Yield': [0.796087, 0.710435, 0.238333, 5238.051739, 0.420909, \n",
    "              0.643636, 0.465455, 9.919565, 0.461364, 0.615652]\n",
    "}\n",
    "\n",
    "df = pd.DataFrame(data)\n",
    "\n",
    "\n",
    "\n",
    "# Bar plot of Production by Crop\n",
    "plt.figure(figsize=(10, 6))\n",
    "sns.barplot(x='Crop', y='Production', data=df)\n",
    "plt.title('Production by Crop')\n",
    "plt.xticks(rotation=45)\n",
    "plt.tight_layout()\n",
    "plt.show()\n"
   ]
  },
  {
   "cell_type": "code",
   "execution_count": 110,
   "id": "abbf874f",
   "metadata": {},
   "outputs": [
    {
     "data": {
      "image/png": "[encoded data removed]",
      "text/plain": [
       "<Figure size 800x600 with 1 Axes>"
      ]
     },
     "metadata": {},
     "output_type": "display_data"
    }
   ],
   "source": [
    "\n",
    "#Scatter plot of Area vs Yield\n",
    "plt.figure(figsize=(8, 6))\n",
    "sns.scatterplot(x='Area', y='Yield', data=df, hue='Season', size='Fertilizer', sizes=(50, 200))\n",
    "plt.title('Area vs Yield')\n",
    "plt.xlabel('Area')\n",
    "plt.ylabel('Yield')\n",
    "plt.legend(title='Season')\n",
    "plt.tight_layout()\n",
    "plt.show()\n"
   ]
  },
  {
   "cell_type": "code",
   "execution_count": 111,
   "id": "0bfa51b2",
   "metadata": {},
   "outputs": [
    {
     "data": {
      "image/png": "[encoded data removed]",
      "text/plain": [
       "<Figure size 800x600 with 1 Axes>"
      ]
     },
     "metadata": {},
     "output_type": "display_data"
    }
   ],
   "source": [
    "# Box plot of Pesticide usage\n",
    "plt.figure(figsize=(8, 6))\n",
    "sns.boxplot(x='State', y='Pesticide', data=df)\n",
    "plt.title('Pesticide Usage by State')\n",
    "plt.xticks(rotation=45)\n",
    "plt.tight_layout()\n",
    "plt.show()\n"
   ]
  },
  {
   "cell_type": "code",
   "execution_count": 112,
   "id": "1f0ada22",
   "metadata": {},
   "outputs": [
    {
     "data": {
      "image/png": "[encoded data removed]",
      "text/plain": [
       "<Figure size 800x600 with 1 Axes>"
      ]
     },
     "metadata": {},
     "output_type": "display_data"
    }
   ],
   "source": [
    "#Histogram of Fertilizer usage\n",
    "plt.figure(figsize=(8, 6))\n",
    "sns.histplot(df['Fertilizer'], bins=10, kde=True)\n",
    "plt.title('Histogram of Fertilizer Usage')\n",
    "plt.xlabel('Fertilizer')\n",
    "plt.ylabel('Frequency')\n",
    "plt.tight_layout()\n",
    "plt.show()"
   ]
  },
  {
   "cell_type": "code",
   "execution_count": 113,
   "id": "35613f55",
   "metadata": {},
   "outputs": [
    {
     "data": {
      "image/png": "[encoded data removed]",
      "text/plain": [
       "<Figure size 600x500 with 1 Axes>"
      ]
     },
     "metadata": {},
     "output_type": "display_data"
    }
   ],
   "source": [
    "#Violin plot of Yield by Season\n",
    "plt.figure(figsize=(6,5))\n",
    "sns.violinplot(x='Season', y='Yield', data=df)\n",
    "plt.title('Yield Distribution by Season')\n",
    "plt.xlabel('Season')\n",
    "plt.ylabel('Yield')\n",
    "plt.tight_layout()\n",
    "plt.show()"
   ]
  },
  {
   "cell_type": "markdown",
   "id": "3f24275a",
   "metadata": {},
   "source": [
    "converting column values to numerical values"
   ]
  },
  {
   "cell_type": "code",
   "execution_count": 114,
   "id": "5dd123a1",
   "metadata": {},
   "outputs": [
    {
     "data": {
      "text/plain": [
       "Crop                object\n",
       "Crop_Year            int64\n",
       "Season              object\n",
       "State               object\n",
       "Area               float64\n",
       "Production           int64\n",
       "Annual_Rainfall    float64\n",
       "Fertilizer         float64\n",
       "Pesticide          float64\n",
       "Yield              float64\n",
       "dtype: object"
      ]
     },
     "execution_count": 114,
     "metadata": {},
     "output_type": "execute_result"
    }
   ],
   "source": [
    "df.dtypes"
   ]
  },
  {
   "cell_type": "code",
   "execution_count": 115,
   "id": "fd2d6b89",
   "metadata": {},
   "outputs": [
    {
     "name": "stdout",
     "output_type": "stream",
     "text": [
      "<class 'pandas.core.frame.DataFrame'>\n",
      "RangeIndex: 10 entries, 0 to 9\n",
      "Data columns (total 18 columns):\n",
      " #   Column             Non-Null Count  Dtype  \n",
      "---  ------             --------------  -----  \n",
      " 0   Crop_Year          10 non-null     int64  \n",
      " 1   Area               10 non-null     float64\n",
      " 2   Production         10 non-null     int64  \n",
      " 3   Annual_Rainfall    10 non-null     float64\n",
      " 4   Fertilizer         10 non-null     float64\n",
      " 5   Pesticide          10 non-null     float64\n",
      " 6   Yield              10 non-null     float64\n",
      " 7   Crop_Arhar/Tur     10 non-null     float64\n",
      " 8   Crop_Castor seed   10 non-null     float64\n",
      " 9   Crop_Coconut       10 non-null     float64\n",
      " 10  Crop_Cotton(lint)  10 non-null     float64\n",
      " 11  Crop_Dry chillies  10 non-null     float64\n",
      " 12  Crop_Gram          10 non-null     float64\n",
      " 13  Crop_Jute          10 non-null     float64\n",
      " 14  Crop_Linseed       10 non-null     float64\n",
      " 15  Crop_Maize         10 non-null     float64\n",
      " 16  Season_Rabi        10 non-null     float64\n",
      " 17  Season_Whole Year  10 non-null     float64\n",
      "dtypes: float64(16), int64(2)\n",
      "memory usage: 1.5 KB\n",
      "None\n"
     ]
    },
    {
     "name": "stderr",
     "output_type": "stream",
     "text": [
      "/home/rgukt/.local/lib/python3.8/site-packages/sklearn/preprocessing/_encoders.py:975: FutureWarning: `sparse` was renamed to `sparse_output` in version 1.2 and will be removed in 1.4. `sparse_output` is ignored unless you leave `sparse` to its default value.\n",
      "  warnings.warn(\n"
     ]
    }
   ],
   "source": [
    "\n",
    "\n",
    "# Extract categorical columns\n",
    "cat_cols = ['Crop', 'Season', 'State']\n",
    "\n",
    "# Initialize OneHotEncoder\n",
    "encoder = OneHotEncoder(sparse=False, drop='first')\n",
    "\n",
    "# Fit and transform on categorical columns\n",
    "encoded_cols = encoder.fit_transform(df[cat_cols])\n",
    "\n",
    "# Get feature names after one-hot encoding\n",
    "cat_feature_names = encoder.categories_\n",
    "feature_names = []\n",
    "for i, col in enumerate(cat_cols):\n",
    "    for category in cat_feature_names[i][1:]:  # Skip the first category (drop='first')\n",
    "        feature_names.append(f\"{col}_{category}\")\n",
    "\n",
    "# Create DataFrame with encoded columns\n",
    "encoded_df = pd.DataFrame(encoded_cols, columns=feature_names)\n",
    "\n",
    "# Concatenate encoded columns with original DataFrame\n",
    "df_encoded = pd.concat([df.drop(columns=cat_cols), encoded_df], axis=1)\n",
    "\n",
    "# Print the info of the encoded DataFrame\n",
    "print(df_encoded.info())\n"
   ]
  },
  {
   "cell_type": "code",
   "execution_count": 116,
   "id": "0bdb7ff5",
   "metadata": {},
   "outputs": [],
   "source": [
    "# Initialize the scaler\n",
    "scaler = StandardScaler()\n",
    "\n",
    "# Scale numerical columns\n",
    "num_cols = ['Area', 'Production', 'Annual_Rainfall', 'Fertilizer', 'Pesticide', 'Yield']\n",
    "df_scaled = df_encoded.copy()\n",
    "df_scaled[num_cols] = scaler.fit_transform(df_encoded[num_cols])\n"
   ]
  },
  {
   "cell_type": "code",
   "execution_count": 117,
   "id": "feecb749",
   "metadata": {},
   "outputs": [
    {
     "name": "stdout",
     "output_type": "stream",
     "text": [
      "<class 'pandas.core.frame.DataFrame'>\n",
      "RangeIndex: 10 entries, 0 to 9\n",
      "Data columns (total 18 columns):\n",
      " #   Column             Non-Null Count  Dtype  \n",
      "---  ------             --------------  -----  \n",
      " 0   Crop_Year          10 non-null     int64  \n",
      " 1   Area               10 non-null     float64\n",
      " 2   Production         10 non-null     float64\n",
      " 3   Annual_Rainfall    10 non-null     float64\n",
      " 4   Fertilizer         10 non-null     float64\n",
      " 5   Pesticide          10 non-null     float64\n",
      " 6   Yield              10 non-null     float64\n",
      " 7   Crop_Arhar/Tur     10 non-null     float64\n",
      " 8   Crop_Castor seed   10 non-null     float64\n",
      " 9   Crop_Coconut       10 non-null     float64\n",
      " 10  Crop_Cotton(lint)  10 non-null     float64\n",
      " 11  Crop_Dry chillies  10 non-null     float64\n",
      " 12  Crop_Gram          10 non-null     float64\n",
      " 13  Crop_Jute          10 non-null     float64\n",
      " 14  Crop_Linseed       10 non-null     float64\n",
      " 15  Crop_Maize         10 non-null     float64\n",
      " 16  Season_Rabi        10 non-null     float64\n",
      " 17  Season_Whole Year  10 non-null     float64\n",
      "dtypes: float64(17), int64(1)\n",
      "memory usage: 1.5 KB\n",
      "None\n"
     ]
    }
   ],
   "source": [
    "print(df_scaled.info())\n"
   ]
  },
  {
   "cell_type": "markdown",
   "id": "6862922f",
   "metadata": {},
   "source": [
    "Splitting the Dataset"
   ]
  },
  {
   "cell_type": "code",
   "execution_count": 129,
   "id": "30277866",
   "metadata": {},
   "outputs": [
    {
     "name": "stdout",
     "output_type": "stream",
     "text": [
      "X_train shape: (8, 17), y_train shape: (8,)\n",
      "X_test shape: (2, 17), y_test shape: (2,)\n"
     ]
    }
   ],
   "source": [
    "# Assuming df_encoded is your preprocessed DataFrame\n",
    "X = df_encoded.drop(columns=['Yield'])  # Features\n",
    "y = df_encoded['Yield']  # Target variable\n",
    "\n",
    "# Split the data into training and testing sets\n",
    "X_train, X_test, y_train, y_test = train_test_split(X, y, test_size=0.2, random_state=42)\n",
    "\n",
    "# Print the shapes of the training and testing sets\n",
    "print(f\"X_train shape: {X_train.shape}, y_train shape: {y_train.shape}\")\n",
    "print(f\"X_test shape: {X_test.shape}, y_test shape: {y_test.shape}\")\n"
   ]
  },
  {
   "cell_type": "code",
   "execution_count": 130,
   "id": "f220b308",
   "metadata": {},
   "outputs": [
    {
     "name": "stdout",
     "output_type": "stream",
     "text": [
      "   Crop_Year     Area  Production  Annual_Rainfall  Fertilizer  Pesticide  \\\n",
      "5       1997  13587.0        9073           2051.4  1293074.79    4211.97   \n",
      "0       1997  73814.0       56708           2051.4  7024878.38   22882.34   \n",
      "7       1997  94520.0      904095           2051.4  8995468.40   29301.20   \n",
      "2       1997    796.0          22           2051.4    75755.32     246.76   \n",
      "9       1997  19216.0       14721           2051.4  1828786.72    5956.96   \n",
      "\n",
      "   Crop_Arhar/Tur  Crop_Castor seed  Crop_Coconut  Crop_Cotton(lint)  \\\n",
      "5             0.0               0.0           0.0                0.0   \n",
      "0             0.0               0.0           0.0                0.0   \n",
      "7             0.0               0.0           0.0                0.0   \n",
      "2             0.0               1.0           0.0                0.0   \n",
      "9             0.0               0.0           0.0                0.0   \n",
      "\n",
      "   Crop_Dry chillies  Crop_Gram  Crop_Jute  Crop_Linseed  Crop_Maize  \\\n",
      "5                1.0        0.0        0.0           0.0         0.0   \n",
      "0                0.0        0.0        0.0           0.0         0.0   \n",
      "7                0.0        0.0        1.0           0.0         0.0   \n",
      "2                0.0        0.0        0.0           0.0         0.0   \n",
      "9                0.0        0.0        0.0           0.0         1.0   \n",
      "\n",
      "   Season_Rabi  Season_Whole Year  \n",
      "5          0.0                1.0  \n",
      "0          0.0                1.0  \n",
      "7          0.0                0.0  \n",
      "2          0.0                0.0  \n",
      "9          0.0                0.0  \n"
     ]
    }
   ],
   "source": [
    "print(X_train.head())"
   ]
  },
  {
   "cell_type": "code",
   "execution_count": 131,
   "id": "af76b150",
   "metadata": {},
   "outputs": [
    {
     "name": "stdout",
     "output_type": "stream",
     "text": [
      "   Crop_Year     Area  Production  Annual_Rainfall  Fertilizer  Pesticide  \\\n",
      "8       1997  10098.0        5158           2051.4   961026.66    3130.38   \n",
      "1       1997   6637.0        4685           2051.4   631643.29    2057.47   \n",
      "\n",
      "   Crop_Arhar/Tur  Crop_Castor seed  Crop_Coconut  Crop_Cotton(lint)  \\\n",
      "8             0.0               0.0           0.0                0.0   \n",
      "1             1.0               0.0           0.0                0.0   \n",
      "\n",
      "   Crop_Dry chillies  Crop_Gram  Crop_Jute  Crop_Linseed  Crop_Maize  \\\n",
      "8                0.0        0.0        0.0           1.0         0.0   \n",
      "1                0.0        0.0        0.0           0.0         0.0   \n",
      "\n",
      "   Season_Rabi  Season_Whole Year  \n",
      "8          1.0                0.0  \n",
      "1          0.0                0.0  \n"
     ]
    }
   ],
   "source": [
    "print(X_test.head())"
   ]
  },
  {
   "cell_type": "code",
   "execution_count": 132,
   "id": "4a10fbca",
   "metadata": {},
   "outputs": [
    {
     "name": "stdout",
     "output_type": "stream",
     "text": [
      "5       0.643636\n",
      "0       0.796087\n",
      "7       9.919565\n",
      "2       0.238333\n",
      "9       0.615652\n",
      "4       0.420909\n",
      "3    5238.051739\n",
      "6       0.465455\n",
      "Name: Yield, dtype: float64\n"
     ]
    }
   ],
   "source": [
    "print(y_train)"
   ]
  },
  {
   "cell_type": "code",
   "execution_count": 133,
   "id": "eb7cad4b",
   "metadata": {},
   "outputs": [
    {
     "name": "stdout",
     "output_type": "stream",
     "text": [
      "8    0.461364\n",
      "1    0.710435\n",
      "Name: Yield, dtype: float64\n"
     ]
    }
   ],
   "source": [
    "print(y_test)"
   ]
  },
  {
   "cell_type": "markdown",
   "id": "9e7e54cd",
   "metadata": {},
   "source": [
    "Linear Regression"
   ]
  },
  {
   "cell_type": "code",
   "execution_count": 134,
   "id": "c29b8e0d",
   "metadata": {},
   "outputs": [
    {
     "data": {
      "text/html": [
       "<style>#sk-container-id-4 {color: black;}#sk-container-id-4 pre{padding: 0;}#sk-container-id-4 div.sk-toggleable {background-color: white;}#sk-container-id-4 label.sk-toggleable__label {cursor: pointer;display: block;width: 100%;margin-bottom: 0;padding: 0.3em;box-sizing: border-box;text-align: center;}#sk-container-id-4 label.sk-toggleable__label-arrow:before {content: \"▸\";float: left;margin-right: 0.25em;color: #696969;}#sk-container-id-4 label.sk-toggleable__label-arrow:hover:before {color: black;}#sk-container-id-4 div.sk-estimator:hover label.sk-toggleable__label-arrow:before {color: black;}#sk-container-id-4 div.sk-toggleable__content {max-height: 0;max-width: 0;overflow: hidden;text-align: left;background-color: #f0f8ff;}#sk-container-id-4 div.sk-toggleable__content pre {margin: 0.2em;color: black;border-radius: 0.25em;background-color: #f0f8ff;}#sk-container-id-4 input.sk-toggleable__control:checked~div.sk-toggleable__content {max-height: 200px;max-width: 100%;overflow: auto;}#sk-container-id-4 input.sk-toggleable__control:checked~label.sk-toggleable__label-arrow:before {content: \"▾\";}#sk-container-id-4 div.sk-estimator input.sk-toggleable__control:checked~label.sk-toggleable__label {background-color: #d4ebff;}#sk-container-id-4 div.sk-label input.sk-toggleable__control:checked~label.sk-toggleable__label {background-color: #d4ebff;}#sk-container-id-4 input.sk-hidden--visually {border: 0;clip: rect(1px 1px 1px 1px);clip: rect(1px, 1px, 1px, 1px);height: 1px;margin: -1px;overflow: hidden;padding: 0;position: absolute;width: 1px;}#sk-container-id-4 div.sk-estimator {font-family: monospace;background-color: #f0f8ff;border: 1px dotted black;border-radius: 0.25em;box-sizing: border-box;margin-bottom: 0.5em;}#sk-container-id-4 div.sk-estimator:hover {background-color: #d4ebff;}#sk-container-id-4 div.sk-parallel-item::after {content: \"\";width: 100%;border-bottom: 1px solid gray;flex-grow: 1;}#sk-container-id-4 div.sk-label:hover label.sk-toggleable__label {background-color: #d4ebff;}#sk-container-id-4 div.sk-serial::before {content: \"\";position: absolute;border-left: 1px solid gray;box-sizing: border-box;top: 0;bottom: 0;left: 50%;z-index: 0;}#sk-container-id-4 div.sk-serial {display: flex;flex-direction: column;align-items: center;background-color: white;padding-right: 0.2em;padding-left: 0.2em;position: relative;}#sk-container-id-4 div.sk-item {position: relative;z-index: 1;}#sk-container-id-4 div.sk-parallel {display: flex;align-items: stretch;justify-content: center;background-color: white;position: relative;}#sk-container-id-4 div.sk-item::before, #sk-container-id-4 div.sk-parallel-item::before {content: \"\";position: absolute;border-left: 1px solid gray;box-sizing: border-box;top: 0;bottom: 0;left: 50%;z-index: -1;}#sk-container-id-4 div.sk-parallel-item {display: flex;flex-direction: column;z-index: 1;position: relative;background-color: white;}#sk-container-id-4 div.sk-parallel-item:first-child::after {align-self: flex-end;width: 50%;}#sk-container-id-4 div.sk-parallel-item:last-child::after {align-self: flex-start;width: 50%;}#sk-container-id-4 div.sk-parallel-item:only-child::after {width: 0;}#sk-container-id-4 div.sk-dashed-wrapped {border: 1px dashed gray;margin: 0 0.4em 0.5em 0.4em;box-sizing: border-box;padding-bottom: 0.4em;background-color: white;}#sk-container-id-4 div.sk-label label {font-family: monospace;font-weight: bold;display: inline-block;line-height: 1.2em;}#sk-container-id-4 div.sk-label-container {text-align: center;}#sk-container-id-4 div.sk-container {/* jupyter's `normalize.less` sets `[hidden] { display: none; }` but bootstrap.min.css set `[hidden] { display: none !important; }` so we also need the `!important` here to be able to override the default hidden behavior on the sphinx rendered scikit-learn.org. See: https://github.com/scikit-learn/scikit-learn/issues/21755 */display: inline-block !important;position: relative;}#sk-container-id-4 div.sk-text-repr-fallback {display: none;}</style><div id=\"sk-container-id-4\" class=\"sk-top-container\"><div class=\"sk-text-repr-fallback\"><pre>LinearRegression()</pre><b>In a Jupyter environment, please rerun this cell to show the HTML representation or trust the notebook. <br />On GitHub, the HTML representation is unable to render, please try loading this page with nbviewer.org.</b></div><div class=\"sk-container\" hidden><div class=\"sk-item\"><div class=\"sk-estimator sk-toggleable\"><input class=\"sk-toggleable__control sk-hidden--visually\" id=\"sk-estimator-id-4\" type=\"checkbox\" checked><label for=\"sk-estimator-id-4\" class=\"sk-toggleable__label sk-toggleable__label-arrow\">LinearRegression</label><div class=\"sk-toggleable__content\"><pre>LinearRegression()</pre></div></div></div></div></div>"
      ],
      "text/plain": [
       "LinearRegression()"
      ]
     },
     "execution_count": 134,
     "metadata": {},
     "output_type": "execute_result"
    }
   ],
   "source": [
    "# Initialize the model\n",
    "model = LinearRegression()\n",
    "\n",
    "# Train the model on the training data\n",
    "model.fit(X_train, y_train)\n"
   ]
  },
  {
   "cell_type": "code",
   "execution_count": 137,
   "id": "5316a64e",
   "metadata": {},
   "outputs": [
    {
     "name": "stdout",
     "output_type": "stream",
     "text": [
      "Mean Squared Error (MSE): 1.4683718099986711\n",
      "R-squared (R2): -93.67813637161287\n"
     ]
    }
   ],
   "source": [
    "# Predict on the testing set\n",
    "y_pred = model.predict(X_test)\n",
    "\n",
    "# Calculate metrics\n",
    "mse = mean_squared_error(y_test, y_pred)\n",
    "r2 = r2_score(y_test, y_pred)\n",
    "\n",
    "print(f\"Mean Squared Error (MSE): {mse}\")\n",
    "print(f\"R-squared (R2): {r2}\")\n"
   ]
  },
  {
   "cell_type": "markdown",
   "id": "8c51dee0",
   "metadata": {},
   "source": [
    "Support Vector Machine(SVM)"
   ]
  },
  {
   "cell_type": "code",
   "execution_count": 128,
   "id": "34b9802f",
   "metadata": {},
   "outputs": [
    {
     "name": "stdout",
     "output_type": "stream",
     "text": [
      "Confusion Matrix:\n",
      " [[1 0]\n",
      " [0 1]]\n",
      "\n",
      "Classification Report:\n",
      "               precision    recall  f1-score   support\n",
      "\n",
      "      Kharif       1.00      1.00      1.00         1\n",
      "        Rabi       1.00      1.00      1.00         1\n",
      "\n",
      "    accuracy                           1.00         2\n",
      "   macro avg       1.00      1.00      1.00         2\n",
      "weighted avg       1.00      1.00      1.00         2\n",
      "\n",
      "Accuracy of Support vector machine classifier: 1.0\n"
     ]
    }
   ],
   "source": [
    "# Drop unnecessary columns for SVM training (like Crop and State for simplicity)\n",
    "X = df.drop(['Crop', 'State'], axis=1)\n",
    "y = df['Season']\n",
    "# Split data into training and testing sets\n",
    "X_train, X_test, y_train, y_test = train_test_split(X, y, test_size=0.2, random_state=42)\n",
    "# Preprocessing pipeline for numerical and categorical features\n",
    "numeric_features = X.select_dtypes(include=['float64']).columns\n",
    "numeric_transformer = Pipeline(steps=[\n",
    "    ('scaler', StandardScaler())\n",
    "])\n",
    "categorical_features = X.select_dtypes(include=['object']).columns\n",
    "categorical_transformer = Pipeline(steps=[\n",
    "    ('onehot', OneHotEncoder(handle_unknown='ignore'))\n",
    "])\n",
    "preprocessor = ColumnTransformer(\n",
    "    transformers=[\n",
    "        ('num', numeric_transformer, numeric_features),\n",
    "        ('cat', categorical_transformer, categorical_features)\n",
    "    ])\n",
    "# Combine preprocessing with SVM model\n",
    "svm_model = Pipeline(steps=[('preprocessor', preprocessor),\n",
    "                            ('classifier', SVC(kernel='linear'))])\n",
    "# Fit the model\n",
    "svm_model.fit(X_train, y_train)\n",
    "# Predictions\n",
    "y_pred = svm_model.predict(X_test)\n",
    "# Evaluate the model\n",
    "print(\"Confusion Matrix:\\n\", confusion_matrix(y_test, y_pred))\n",
    "print(\"\\nClassification Report:\\n\", classification_report(y_test, y_pred))\n",
    "print(\"Accuracy of Support vector machine classifier:\",metrics.accuracy_score(y_test,y_pred))"
   ]
  },
  {
   "cell_type": "code",
   "execution_count": null,
   "id": "1568f2e2",
   "metadata": {},
   "outputs": [],
   "source": [
    "newdata={'Gender':1,\n",
    "          'Married':1,\n",
    "          'Dependents':2,\n",
    "          'Education':0,\n",
    "          'Self_Employed':0,\n",
    "          'ApplicantIncome':2889,\n",
    "          'CoapplicantIncome':0,\n",
    "          'LoanAmount':45,\n",
    "          'Loan_Amount_Term':180,\n",
    "          'Credit_History':0,\n",
    "          'Property_Area':1}\n",
    "newinput=pd.DataFrame(newdata,index=[0])\n",
    "predictedlabel=Svmc.predict(newinput)\n",
    "result=predictedlabel[0]\n",
    "if result==1:\n",
    " print(\"Loan approved\")\n",
    "else:\n",
    "  print(\"Loan not approved\")"
   ]
  },
  {
   "cell_type": "code",
   "execution_count": null,
   "id": "b3082155",
   "metadata": {},
   "outputs": [],
   "source": []
  }
 ],
 "metadata": {
  "kernelspec": {
   "display_name": "Python 3 (ipykernel)",
   "language": "python",
   "name": "python3"
  },
  "language_info": {
   "codemirror_mode": {
    "name": "ipython",
    "version": 3
   },
   "file_extension": ".py",
   "mimetype": "text/x-python",
   "name": "python",
   "nbconvert_exporter": "python",
   "pygments_lexer": "ipython3",
   "version": "3.8.10"
  }
 },
 "nbformat": 4,
 "nbformat_minor": 5
}
